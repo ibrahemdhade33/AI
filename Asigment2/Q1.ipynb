{
 "cells": [
  {
   "cell_type": "markdown",
   "metadata": {},
   "source": [
    "Question#1\n"
   ]
  },
  {
   "cell_type": "markdown",
   "metadata": {},
   "source": [
    "1-Genrate Data"
   ]
  },
  {
   "cell_type": "code",
   "execution_count": 317,
   "metadata": {},
   "outputs": [
    {
     "data": {
      "text/html": [
       "<div>\n",
       "<style scoped>\n",
       "    .dataframe tbody tr th:only-of-type {\n",
       "        vertical-align: middle;\n",
       "    }\n",
       "\n",
       "    .dataframe tbody tr th {\n",
       "        vertical-align: top;\n",
       "    }\n",
       "\n",
       "    .dataframe thead th {\n",
       "        text-align: right;\n",
       "    }\n",
       "</style>\n",
       "<table border=\"1\" class=\"dataframe\">\n",
       "  <thead>\n",
       "    <tr style=\"text-align: right;\">\n",
       "      <th></th>\n",
       "      <th>1</th>\n",
       "      <th>xi^1</th>\n",
       "      <th>xi^2</th>\n",
       "      <th>xi^3</th>\n",
       "      <th>xi^4</th>\n",
       "      <th>xi^5</th>\n",
       "      <th>xi^6</th>\n",
       "      <th>y</th>\n",
       "    </tr>\n",
       "  </thead>\n",
       "  <tbody>\n",
       "    <tr>\n",
       "      <th>0</th>\n",
       "      <td>1</td>\n",
       "      <td>0.650803</td>\n",
       "      <td>0.423545</td>\n",
       "      <td>0.275644</td>\n",
       "      <td>0.179390</td>\n",
       "      <td>0.116748</td>\n",
       "      <td>7.597978e-02</td>\n",
       "      <td>-0.809806</td>\n",
       "    </tr>\n",
       "    <tr>\n",
       "      <th>1</th>\n",
       "      <td>1</td>\n",
       "      <td>0.950066</td>\n",
       "      <td>0.902625</td>\n",
       "      <td>0.857552</td>\n",
       "      <td>0.814731</td>\n",
       "      <td>0.774048</td>\n",
       "      <td>7.353963e-01</td>\n",
       "      <td>-0.310377</td>\n",
       "    </tr>\n",
       "    <tr>\n",
       "      <th>2</th>\n",
       "      <td>1</td>\n",
       "      <td>0.774189</td>\n",
       "      <td>0.599368</td>\n",
       "      <td>0.464024</td>\n",
       "      <td>0.359242</td>\n",
       "      <td>0.278121</td>\n",
       "      <td>2.153180e-01</td>\n",
       "      <td>-0.988552</td>\n",
       "    </tr>\n",
       "    <tr>\n",
       "      <th>3</th>\n",
       "      <td>1</td>\n",
       "      <td>0.935025</td>\n",
       "      <td>0.874271</td>\n",
       "      <td>0.817465</td>\n",
       "      <td>0.764350</td>\n",
       "      <td>0.714686</td>\n",
       "      <td>6.682487e-01</td>\n",
       "      <td>-0.395877</td>\n",
       "    </tr>\n",
       "    <tr>\n",
       "      <th>4</th>\n",
       "      <td>1</td>\n",
       "      <td>0.106281</td>\n",
       "      <td>0.011296</td>\n",
       "      <td>0.001201</td>\n",
       "      <td>0.000128</td>\n",
       "      <td>0.000014</td>\n",
       "      <td>1.441271e-06</td>\n",
       "      <td>0.620562</td>\n",
       "    </tr>\n",
       "    <tr>\n",
       "      <th>5</th>\n",
       "      <td>1</td>\n",
       "      <td>0.065038</td>\n",
       "      <td>0.004230</td>\n",
       "      <td>0.000275</td>\n",
       "      <td>0.000018</td>\n",
       "      <td>0.000001</td>\n",
       "      <td>7.568647e-08</td>\n",
       "      <td>0.394309</td>\n",
       "    </tr>\n",
       "    <tr>\n",
       "      <th>6</th>\n",
       "      <td>1</td>\n",
       "      <td>0.608571</td>\n",
       "      <td>0.370359</td>\n",
       "      <td>0.225390</td>\n",
       "      <td>0.137166</td>\n",
       "      <td>0.083475</td>\n",
       "      <td>5.080047e-02</td>\n",
       "      <td>-0.631315</td>\n",
       "    </tr>\n",
       "    <tr>\n",
       "      <th>7</th>\n",
       "      <td>1</td>\n",
       "      <td>0.278873</td>\n",
       "      <td>0.077770</td>\n",
       "      <td>0.021688</td>\n",
       "      <td>0.006048</td>\n",
       "      <td>0.001687</td>\n",
       "      <td>4.703725e-04</td>\n",
       "      <td>0.986508</td>\n",
       "    </tr>\n",
       "    <tr>\n",
       "      <th>8</th>\n",
       "      <td>1</td>\n",
       "      <td>0.599481</td>\n",
       "      <td>0.359377</td>\n",
       "      <td>0.215440</td>\n",
       "      <td>0.129152</td>\n",
       "      <td>0.077424</td>\n",
       "      <td>4.641436e-02</td>\n",
       "      <td>-0.584025</td>\n",
       "    </tr>\n",
       "    <tr>\n",
       "      <th>9</th>\n",
       "      <td>1</td>\n",
       "      <td>0.359728</td>\n",
       "      <td>0.129404</td>\n",
       "      <td>0.046550</td>\n",
       "      <td>0.016745</td>\n",
       "      <td>0.006024</td>\n",
       "      <td>2.166923e-03</td>\n",
       "      <td>0.773475</td>\n",
       "    </tr>\n",
       "  </tbody>\n",
       "</table>\n",
       "</div>"
      ],
      "text/plain": [
       "   1      xi^1      xi^2      xi^3      xi^4      xi^5          xi^6         y\n",
       "0  1  0.650803  0.423545  0.275644  0.179390  0.116748  7.597978e-02 -0.809806\n",
       "1  1  0.950066  0.902625  0.857552  0.814731  0.774048  7.353963e-01 -0.310377\n",
       "2  1  0.774189  0.599368  0.464024  0.359242  0.278121  2.153180e-01 -0.988552\n",
       "3  1  0.935025  0.874271  0.817465  0.764350  0.714686  6.682487e-01 -0.395877\n",
       "4  1  0.106281  0.011296  0.001201  0.000128  0.000014  1.441271e-06  0.620562\n",
       "5  1  0.065038  0.004230  0.000275  0.000018  0.000001  7.568647e-08  0.394309\n",
       "6  1  0.608571  0.370359  0.225390  0.137166  0.083475  5.080047e-02 -0.631315\n",
       "7  1  0.278873  0.077770  0.021688  0.006048  0.001687  4.703725e-04  0.986508\n",
       "8  1  0.599481  0.359377  0.215440  0.129152  0.077424  4.641436e-02 -0.584025\n",
       "9  1  0.359728  0.129404  0.046550  0.016745  0.006024  2.166923e-03  0.773475"
      ]
     },
     "execution_count": 317,
     "metadata": {},
     "output_type": "execute_result"
    }
   ],
   "source": [
    "import random as rd\n",
    "import numpy as np \n",
    "import pandas\n",
    "data_set={\"1\":[],\"xi^1\":[],\"xi^2\":[],\"xi^3\":[],\"xi^4\":[],\"xi^5\":[],\"xi^6\":[],\"y\":[]}\n",
    "xi=[]\n",
    "for i in range(10):\n",
    "    xi.append(rd.random())\n",
    "#print(xi)\n",
    "for i in range(10):\n",
    "    data_set[\"1\"].append(1)\n",
    "for i in range(1,8):\n",
    "    for j in range(10):\n",
    "            if i < 7:\n",
    "                data_set[\"xi^\"+str(i)].append(np.power(xi[j],i))\n",
    "            else:\n",
    "                y= np.sin(\n",
    "                    2*np.pi*data_set[\"xi^1\"][j]);\n",
    "                epsilon = np.random.normal(0, 0.002) ;\n",
    "                data_set[\"y\"].append(y+epsilon)\n",
    "               # print(f\"y : {y}  epsilon : {epsilon}\")\n",
    "                \n",
    "                 \n",
    "df=pandas.DataFrame(data_set)\n",
    "df"
   ]
  },
  {
   "cell_type": "markdown",
   "metadata": {},
   "source": [
    "2-Apply Ridge Regression"
   ]
  },
  {
   "cell_type": "code",
   "execution_count": 350,
   "metadata": {},
   "outputs": [
    {
     "name": "stdout",
     "output_type": "stream",
     "text": [
      "lembda = 0.0\n"
     ]
    },
    {
     "data": {
      "image/png": "[encoded data removed]",
      "text/plain": [
       "<Figure size 432x288 with 1 Axes>"
      ]
     },
     "metadata": {
      "needs_background": "light"
     },
     "output_type": "display_data"
    },
    {
     "name": "stdout",
     "output_type": "stream",
     "text": [
      "lembda = 0.5\n"
     ]
    },
    {
     "data": {
      "image/png": "[encoded data removed]",
      "text/plain": [
       "<Figure size 432x288 with 1 Axes>"
      ]
     },
     "metadata": {
      "needs_background": "light"
     },
     "output_type": "display_data"
    },
    {
     "name": "stdout",
     "output_type": "stream",
     "text": [
      "lembda = 1.0\n"
     ]
    },
    {
     "data": {
      "image/png": "[encoded data removed]",
      "text/plain": [
       "<Figure size 432x288 with 1 Axes>"
      ]
     },
     "metadata": {
      "needs_background": "light"
     },
     "output_type": "display_data"
    },
    {
     "name": "stdout",
     "output_type": "stream",
     "text": [
      "lembda = 1.5\n"
     ]
    },
    {
     "data": {
      "image/png": "[encoded data removed]",
      "text/plain": [
       "<Figure size 432x288 with 1 Axes>"
      ]
     },
     "metadata": {
      "needs_background": "light"
     },
     "output_type": "display_data"
    },
    {
     "name": "stdout",
     "output_type": "stream",
     "text": [
      "lembda = 2.0\n"
     ]
    },
    {
     "data": {
      "image/png": "[encoded data removed]",
      "text/plain": [
       "<Figure size 432x288 with 1 Axes>"
      ]
     },
     "metadata": {
      "needs_background": "light"
     },
     "output_type": "display_data"
    }
   ],
   "source": [
    "from sklearn.linear_model import Ridge \n",
    "import random as r\n",
    "from sklearn.model_selection import train_test_split\n",
    "import matplotlib.pyplot as plt\n",
    "f=df.drop(columns='y',axis=1)\n",
    "y=df[\"y\"]\n",
    "x_train,x_test,y_train,y_test = train_test_split(f,y,train_size=0.8)\n",
    "x_test\n",
    "lembda =0.0\n",
    "for i in range(0,5):\n",
    "    \n",
    "    ridge_model = Ridge(alpha=lembda)\n",
    "    print(f\"lembda = {lembda}\")\n",
    "    lembda+=0.5\n",
    "    \n",
    "    ridge_model.fit(x_train,y_train)\n",
    "    ridge_coff = ridge_model.coef_\n",
    "    ridge_intercept= ridge_model.intercept_\n",
    "    x_plt = x_test[\"xi^1\"]\n",
    "    y_plt = ridge_model.predict(x_test)\n",
    "    plt.scatter(x_train[\"xi^1\"],y_train,label='training data')\n",
    "    plt.xlabel(\"xi\")\n",
    "    plt.ylabel(\"yi\")\n",
    "    plt.plot(x_plt,y_plt,'r',label='testing data')\n",
    "    plt.legend()\n",
    "    plt.show()\n",
    "    "
   ]
  },
  {
   "cell_type": "markdown",
   "metadata": {},
   "source": [
    "Notes : \n",
    "when lembda=0 we can note that the model is overfitting\"this is same as linear regrision\", as lembda increased we can note that the model be good,as lembda increased more the model be in underfitting"
   ]
  },
  {
   "cell_type": "markdown",
   "metadata": {},
   "source": [
    "Comments : \n",
    "the output y represnted by non leniar function'sin',so a good choice to use non linear regression to predict the output,the output looks somewhat logical because the data set is small."
   ]
  }
 ],
 "metadata": {
  "language_info": {
   "name": "python"
  },
  "orig_nbformat": 4
 },
 "nbformat": 4,
 "nbformat_minor": 2
}
